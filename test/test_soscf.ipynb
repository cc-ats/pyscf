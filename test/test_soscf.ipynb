{
 "cells": [
  {
   "cell_type": "code",
   "execution_count": 1,
   "metadata": {},
   "outputs": [
    {
     "data": {
      "text/plain": [
       "-5.652096673738437"
      ]
     },
     "execution_count": 1,
     "metadata": {},
     "output_type": "execute_result"
    }
   ],
   "source": [
    "#!/usr/bin/env python\n",
    "#\n",
    "# Author: Qiming Sun <osirpt.sun@gmail.com>\n",
    "#\n",
    "\n",
    "from pyscf import gto\n",
    "from pyscf import scf\n",
    "from pyscf import soscf\n",
    "\n",
    "from pyscf.soscf.gdm import get_canonicalize_rhf, get_orb_grad_hess_rhf\n",
    "\n",
    "mol = gto.Mole()\n",
    "mol.build(\n",
    "    verbose = 0,\n",
    "    atom = '''He  1.5   0    0\n",
    "              He  0     0    0''',\n",
    "    basis = '3-21g',\n",
    "    cart = False,\n",
    "    symmetry = False\n",
    ")\n",
    "\n",
    "mf = scf.RHF(mol)\n",
    "mf.conv_tol =  1e-1\n",
    "mf.init_guess = \"hcore\"\n",
    "mf.max_cycle = 1\n",
    "mf.verbose = 0\n",
    "mf.kernel()"
   ]
  },
  {
   "cell_type": "code",
   "execution_count": 2,
   "metadata": {},
   "outputs": [
    {
     "name": "stdout",
     "output_type": "stream",
     "text": [
      "foo =  [[2.0087    ]\n",
      " [2.26891919]]\n",
      "fvv =  [-0.96649608 -0.82418762]\n",
      "h_diag =  [[2.97519608 2.83288763]\n",
      " [3.23541527 3.09310681]]\n"
     ]
    },
    {
     "data": {
      "text/plain": [
       "(array([ 4.99040834e-02, -1.03449504e-15,  5.50517255e-16, -5.21083310e-02]),\n",
       " array([5.95039217, 5.66577526, 6.47083054, 6.18621363]))"
      ]
     },
     "execution_count": 2,
     "metadata": {},
     "output_type": "execute_result"
    }
   ],
   "source": [
    "mo_coeff = mf.mo_coeff\n",
    "mo_occ   = mf.mo_occ\n",
    "fock_ao  = mf.get_fock()\n",
    "\n",
    "get_canonicalize_rhf( mf, mo_coeff, mo_occ, fock_ao=fock_ao)\n",
    "get_orb_grad_hess_rhf(mf, mo_coeff, mo_occ, fock_ao=fock_ao)"
   ]
  },
  {
   "cell_type": "code",
   "execution_count": 3,
   "metadata": {},
   "outputs": [
    {
     "ename": "ValueError",
     "evalue": "operands could not be broadcast together with shapes (10,) (5,) ",
     "output_type": "error",
     "traceback": [
      "\u001b[0;31m---------------------------------------------------------------------------\u001b[0m",
      "\u001b[0;31mValueError\u001b[0m                                Traceback (most recent call last)",
      "\u001b[0;32m<ipython-input-3-e3f099bd3e95>\u001b[0m in \u001b[0;36m<module>\u001b[0;34m\u001b[0m\n\u001b[1;32m      3\u001b[0m \u001b[0my\u001b[0m \u001b[0;34m=\u001b[0m \u001b[0mnumpy\u001b[0m\u001b[0;34m.\u001b[0m\u001b[0marange\u001b[0m\u001b[0;34m(\u001b[0m\u001b[0;36m5\u001b[0m\u001b[0;34m)\u001b[0m\u001b[0;34m\u001b[0m\u001b[0;34m\u001b[0m\u001b[0m\n\u001b[1;32m      4\u001b[0m \u001b[0;34m\u001b[0m\u001b[0m\n\u001b[0;32m----> 5\u001b[0;31m \u001b[0mx\u001b[0m\u001b[0;34m-\u001b[0m\u001b[0my\u001b[0m\u001b[0;34m\u001b[0m\u001b[0;34m\u001b[0m\u001b[0m\n\u001b[0m",
      "\u001b[0;31mValueError\u001b[0m: operands could not be broadcast together with shapes (10,) (5,) "
     ]
    }
   ],
   "source": [
    "import numpy\n",
    "x = numpy.arange(10)\n",
    "y = numpy.arange(5)\n",
    "\n",
    "x-y"
   ]
  },
  {
   "cell_type": "code",
   "execution_count": null,
   "metadata": {},
   "outputs": [],
   "source": []
  }
 ],
 "metadata": {
  "kernelspec": {
   "display_name": "Python 3",
   "language": "python",
   "name": "python3"
  },
  "language_info": {
   "codemirror_mode": {
    "name": "ipython",
    "version": 3
   },
   "file_extension": ".py",
   "mimetype": "text/x-python",
   "name": "python",
   "nbconvert_exporter": "python",
   "pygments_lexer": "ipython3",
   "version": "3.7.7"
  }
 },
 "nbformat": 4,
 "nbformat_minor": 4
}
