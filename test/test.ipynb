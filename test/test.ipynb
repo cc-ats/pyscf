{
 "cells": [
  {
   "cell_type": "code",
   "execution_count": 1,
   "metadata": {},
   "outputs": [
    {
     "name": "stdout",
     "output_type": "stream",
     "text": [
      " ** Mulliken pop  **\n",
      "pop of  0 He 1s        2.00000\n",
      "pop of  1 He 1s        2.00000\n",
      "pop of  2 He 1s        1.77240\n",
      "pop of  3 H 1s        0.22760\n",
      " ** Mulliken atomic charges  **\n",
      "charge of  0He =      0.00000\n",
      "charge of  1He =      0.00000\n",
      "charge of  2He =      0.22760\n",
      "charge of  3H =      0.77240\n"
     ]
    },
    {
     "data": {
      "text/plain": [
       "(array([2.       , 2.       , 1.7723957, 0.2276043]),\n",
       " array([7.84967868e-10, 2.04125605e-12, 2.27604303e-01, 7.72395696e-01]))"
      ]
     },
     "execution_count": 1,
     "metadata": {},
     "output_type": "execute_result"
    }
   ],
   "source": [
    "import numpy as np\n",
    "import scipy.linalg as la\n",
    "import copy\n",
    "from functools import reduce\n",
    "from pyscf import gto, scf, lo, dft, lib\n",
    "\n",
    "from pyscf.tools.dump_mat import dump_rec\n",
    "from sys import stdout\n",
    "    \n",
    "mol = gto.Mole()\n",
    "mol.verbose = 0\n",
    "mol.atom = '''\n",
    "He  0.0 0.0  2.0\n",
    "He  0.0 0.0  4.0\n",
    "He 0.0 0.0 -2.0\n",
    "H  0.0 0.0 -2.929352\n",
    "'''\n",
    "mol.basis = 'sto-3g'\n",
    "mol.spin   = 0\n",
    "mol.charge = 1\n",
    "mol.build()\n",
    "\n",
    "mf           = scf.RHF(mol)\n",
    "mf.conv_tol  = 1e-9\n",
    "mf.verbose   = 0\n",
    "mf.max_cycle = 100\n",
    "mf.kernel()\n",
    "\n",
    "mf.mulliken_pop()"
   ]
  },
  {
   "cell_type": "code",
   "execution_count": 2,
   "metadata": {},
   "outputs": [
    {
     "name": "stdout",
     "output_type": "stream",
     "text": [
      "        #0        #1       \n",
      "0       1.00000   0.03202\n",
      "1       0.03202   1.00000\n"
     ]
    }
   ],
   "source": [
    "w1 = mf.get_ovlp()\n",
    "dump_rec(stdout, w1[0:2,0:2])\n",
    "w1[0:2,0:2] = 0.0"
   ]
  },
  {
   "cell_type": "code",
   "execution_count": 3,
   "metadata": {},
   "outputs": [
    {
     "name": "stdout",
     "output_type": "stream",
     "text": [
      "        #0        #1        #2        #3       \n",
      "0       2.00205  -0.06411  -0.00002  -0.00005\n",
      "1      -0.06411   2.00205  -0.00000   0.00000\n",
      "2      -0.00002  -0.00000   1.62037   0.34996\n",
      "3      -0.00005   0.00000   0.34996   0.07558\n"
     ]
    }
   ],
   "source": [
    "dm1 = mf.make_rdm1()\n",
    "dump_rec(stdout, dm1)"
   ]
  },
  {
   "cell_type": "code",
   "execution_count": 4,
   "metadata": {},
   "outputs": [
    {
     "data": {
      "text/plain": [
       "1.9999999995164532"
      ]
     },
     "execution_count": 4,
     "metadata": {},
     "output_type": "execute_result"
    }
   ],
   "source": [
    "np.einsum(\"ij,ji->\", w1, dm1)"
   ]
  },
  {
   "cell_type": "code",
   "execution_count": 5,
   "metadata": {},
   "outputs": [
    {
     "data": {
      "text/plain": [
       "4"
      ]
     },
     "execution_count": 5,
     "metadata": {},
     "output_type": "execute_result"
    }
   ],
   "source": [
    "mol.natm"
   ]
  },
  {
   "cell_type": "code",
   "execution_count": 6,
   "metadata": {},
   "outputs": [
    {
     "data": {
      "text/plain": [
       "True"
      ]
     },
     "execution_count": 6,
     "metadata": {},
     "output_type": "execute_result"
    }
   ],
   "source": [
    "def anydup(thelist):\n",
    "  seen = set()\n",
    "  for x in thelist:\n",
    "    if x in seen: return True\n",
    "    seen.add(x)\n",
    "  return False\n",
    "\n",
    "frgm_list        = [[2,3],[3,6,6,6]]\n",
    "atm_list_tmp     = []\n",
    "is_repeated_atom = False\n",
    "for atm_list in frgm_list:\n",
    "    for atm_idx in frgm_list:\n",
    "        is_repeated_atom = atm_idx in atm_list_tmp\n",
    "        atm_list_tmp.append(atm_idx)\n",
    "is_repeated_atom"
   ]
  },
  {
   "cell_type": "code",
   "execution_count": null,
   "metadata": {},
   "outputs": [],
   "source": []
  }
 ],
 "metadata": {
  "kernelspec": {
   "display_name": "Python 3",
   "language": "python",
   "name": "python3"
  },
  "language_info": {
   "codemirror_mode": {
    "name": "ipython",
    "version": 3
   },
   "file_extension": ".py",
   "mimetype": "text/x-python",
   "name": "python",
   "nbconvert_exporter": "python",
   "pygments_lexer": "ipython3",
   "version": "3.7.7"
  }
 },
 "nbformat": 4,
 "nbformat_minor": 4
}
