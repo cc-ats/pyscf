{
 "cells": [
  {
   "cell_type": "code",
   "execution_count": 1,
   "metadata": {},
   "outputs": [
    {
     "data": {
      "text/plain": [
       "<pyscf.gto.mole.Mole at 0x1116e8890>"
      ]
     },
     "execution_count": 1,
     "metadata": {},
     "output_type": "execute_result"
    }
   ],
   "source": [
    "import numpy as np\n",
    "from pyscf import gto, scf, dft\n",
    "\n",
    "from pyscf.tools.dump_mat import dump_rec\n",
    "from sys import stdout\n",
    "\n",
    "from pop_scheme import FrgPopulationScheme, FrgMullikenPopulation\n",
    "from rdft       import Constraints, rdft\n",
    "\n",
    "mol = gto.Mole()\n",
    "mol.verbose = 0\n",
    "mol.atom = '''\n",
    "O  -1.551007  -0.114520   0.000000\n",
    "H  -1.934259   0.762503   0.000000\n",
    "H  -0.599677   0.040712   0.000000\n",
    "O   1.350625   0.111469   0.000000\n",
    "H   1.680398  -0.373741  -0.758561\n",
    "H   1.680398  -0.373741   0.758561\n",
    "'''\n",
    "\n",
    "mol.basis = 'sto-3g'\n",
    "mol.spin   = 0\n",
    "mol.charge = 0\n",
    "mol.build()"
   ]
  },
  {
   "cell_type": "code",
   "execution_count": 2,
   "metadata": {},
   "outputs": [
    {
     "name": "stdout",
     "output_type": "stream",
     "text": [
      "e01 =  -186.598224, e0 =  -186.598224, e_add =     0.000000, e0 - e01 =     0.000000\n",
      "e01 =  -186.598224, e0 =  -186.598224, e_add =     0.000000, e0 - e01 =     0.000000\n",
      "cycle= 1 E= -149.935375926425  delta_E= -2.44e-12  |g|= 8.71e-07  |ddm|= 4.24e-06\n",
      "e01 =  -186.598224, e0 =  -186.598224, e_add =     0.000000, e0 - e01 =     0.000000\n",
      "converged SCF energy = -149.935375926426\n",
      "omega =     0.000000, e01 =  -186.598224, e_add1 =     0.000000, pop1 =    -0.025080\n",
      "e01 =  -186.598224, e0 =  -186.598224, e_add =     0.000000, e0 - e01 =     0.000000\n",
      "e01 =  -186.598224, e0 =  -186.598224, e_add =     0.000629, e0 - e01 =     0.000000\n",
      "e01 =  -186.598210, e0 =  -186.598210, e_add =     0.000000, e0 - e01 =     0.000000\n",
      "e01 =  -186.598210, e0 =  -186.598210, e_add =     0.000562, e0 - e01 =     0.000000\n",
      "cycle= 1 E= -149.934800363496  delta_E= -5.35e-05  |g|= 0.0012  |ddm|= 0.0126\n",
      "e01 =  -186.598206, e0 =  -186.598206, e_add =     0.000000, e0 - e01 =     0.000000\n",
      "e01 =  -186.598206, e0 =  -186.598206, e_add =     0.000552, e0 - e01 =     0.000000\n",
      "cycle= 2 E= -149.934805886192  delta_E= -5.52e-06  |g|= 0.000235  |ddm|= 0.00216\n",
      "e01 =  -186.598205, e0 =  -186.598205, e_add =     0.000000, e0 - e01 =     0.000000\n",
      "e01 =  -186.598205, e0 =  -186.598205, e_add =     0.000550, e0 - e01 =     0.000000\n",
      "cycle= 3 E= -149.934806951471  delta_E= -1.07e-06  |g|= 5.56e-05  |ddm|= 0.000464\n",
      "e01 =  -186.598205, e0 =  -186.598205, e_add =     0.000000, e0 - e01 =     0.000000\n",
      "e01 =  -186.598205, e0 =  -186.598205, e_add =     0.000550, e0 - e01 =     0.000000\n",
      "cycle= 4 E= -149.9348072158  delta_E= -2.64e-07  |g|= 7.87e-06  |ddm|= 0.000143\n",
      "e01 =  -186.598205, e0 =  -186.598205, e_add =     0.000000, e0 - e01 =     0.000000\n",
      "e01 =  -186.598205, e0 =  -186.598205, e_add =     0.000550, e0 - e01 =     0.000000\n",
      "cycle= 5 E= -149.93480720149  delta_E= 1.43e-08  |g|= 1.93e-06  |ddm|= 1.63e-05\n",
      "e01 =  -186.598205, e0 =  -186.598205, e_add =     0.000000, e0 - e01 =     0.000000\n",
      "e01 =  -186.598205, e0 =  -186.598205, e_add =     0.000550, e0 - e01 =     0.000000\n",
      "cycle= 6 E= -149.934807200856  delta_E= 6.34e-10  |g|= 3.94e-07  |ddm|= 5.61e-06\n",
      "e01 =  -186.598205, e0 =  -186.598205, e_add =     0.000000, e0 - e01 =     0.000000\n",
      "e01 =  -186.598205, e0 =  -186.598205, e_add =     0.000550, e0 - e01 =     0.000000\n",
      "converged SCF energy = -149.93480720097\n",
      "e01 =  -186.598205, e0 =  -186.598205, e_add =     0.000000, e0 - e01 =     0.000000\n",
      "omega =     1.000000, e01 =  -186.598205, e_add1 =     0.000550, pop1 =    -0.023448\n",
      "e01 =  -186.598205, e0 =  -186.598205, e_add =     0.000000, e0 - e01 =     0.000000\n",
      "e01 =  -186.598205, e0 =  -186.598205, e_add =     0.000550, e0 - e01 =     0.000000\n",
      "e01 =  -186.598205, e0 =  -186.597655, e_add =     0.001100, e0 - e01 =     0.000550\n",
      "e01 =  -186.598107, e0 =  -186.598107, e_add =     0.000000, e0 - e01 =     0.000000\n",
      "e01 =  -186.598107, e0 =  -186.598107, e_add =     0.000445, e0 - e01 =     0.000000\n",
      "e01 =  -186.598107, e0 =  -186.597662, e_add =     0.000890, e0 - e01 =     0.000445\n",
      "cycle= 1 E= -149.933923653662  delta_E= -0.000216  |g|= 0.00132  |ddm|= 0.0222\n",
      "e01 =  -186.598100, e0 =  -186.598100, e_add =     0.000000, e0 - e01 =     0.000000\n",
      "e01 =  -186.598100, e0 =  -186.598100, e_add =     0.000440, e0 - e01 =     0.000000\n",
      "e01 =  -186.598100, e0 =  -186.597660, e_add =     0.000880, e0 - e01 =     0.000440\n",
      "cycle= 2 E= -149.93393226522  delta_E= -8.61e-06  |g|= 0.000198  |ddm|= 0.00209\n",
      "e01 =  -186.598098, e0 =  -186.598098, e_add =     0.000000, e0 - e01 =     0.000000\n",
      "e01 =  -186.598098, e0 =  -186.598098, e_add =     0.000439, e0 - e01 =     0.000000\n",
      "e01 =  -186.598098, e0 =  -186.597659, e_add =     0.000877, e0 - e01 =     0.000439\n",
      "cycle= 3 E= -149.933933980713  delta_E= -1.72e-06  |g|= 4.88e-05  |ddm|= 0.000371\n",
      "e01 =  -186.598098, e0 =  -186.598098, e_add =     0.000000, e0 - e01 =     0.000000\n",
      "e01 =  -186.598098, e0 =  -186.598098, e_add =     0.000439, e0 - e01 =     0.000000\n",
      "e01 =  -186.598098, e0 =  -186.597659, e_add =     0.000877, e0 - e01 =     0.000439\n",
      "cycle= 4 E= -149.933934149228  delta_E= -1.69e-07  |g|= 1.16e-05  |ddm|= 0.000106\n",
      "e01 =  -186.598098, e0 =  -186.598098, e_add =     0.000000, e0 - e01 =     0.000000\n",
      "e01 =  -186.598098, e0 =  -186.598098, e_add =     0.000439, e0 - e01 =     0.000000\n",
      "e01 =  -186.598098, e0 =  -186.597659, e_add =     0.000877, e0 - e01 =     0.000439\n",
      "cycle= 5 E= -149.933934166936  delta_E= -1.77e-08  |g|= 2.8e-06  |ddm|= 2.71e-05\n",
      "e01 =  -186.598098, e0 =  -186.598098, e_add =     0.000000, e0 - e01 =     0.000000\n",
      "e01 =  -186.598098, e0 =  -186.598098, e_add =     0.000439, e0 - e01 =     0.000000\n",
      "e01 =  -186.598098, e0 =  -186.597659, e_add =     0.000877, e0 - e01 =     0.000439\n",
      "cycle= 6 E= -149.933934152504  delta_E= 1.44e-08  |g|= 5.26e-07  |ddm|= 7.97e-06\n",
      "e01 =  -186.598098, e0 =  -186.598098, e_add =     0.000000, e0 - e01 =     0.000000\n",
      "e01 =  -186.598098, e0 =  -186.598098, e_add =     0.000439, e0 - e01 =     0.000000\n",
      "e01 =  -186.598098, e0 =  -186.597659, e_add =     0.000877, e0 - e01 =     0.000439\n",
      "cycle= 7 E= -149.933934155049  delta_E= -2.55e-09  |g|= 2.19e-08  |ddm|= 1.78e-06\n",
      "e01 =  -186.598098, e0 =  -186.598098, e_add =     0.000000, e0 - e01 =     0.000000\n",
      "e01 =  -186.598098, e0 =  -186.598098, e_add =     0.000439, e0 - e01 =     0.000000\n",
      "e01 =  -186.598098, e0 =  -186.597659, e_add =     0.000877, e0 - e01 =     0.000439\n",
      "converged SCF energy = -149.93393415484\n",
      "e01 =  -186.598098, e0 =  -186.598098, e_add =     0.000000, e0 - e01 =     0.000000\n",
      "e01 =  -186.598098, e0 =  -186.598098, e_add =     0.000439, e0 - e01 =     0.000000\n",
      "omega =     2.000000, e01 =  -186.597659, e_add1 =     0.000877, pop1 =    -0.020942\n",
      "e01 =  -186.598098, e0 =  -186.598098, e_add =     0.000000, e0 - e01 =     0.000000\n",
      "e01 =  -186.598098, e0 =  -186.598098, e_add =     0.000439, e0 - e01 =     0.000000\n",
      "e01 =  -186.598098, e0 =  -186.597659, e_add =     0.000877, e0 - e01 =     0.000439\n",
      "e01 =  -186.598098, e0 =  -186.596782, e_add =     0.001316, e0 - e01 =     0.001316\n",
      "e01 =  -186.597853, e0 =  -186.597853, e_add =     0.000000, e0 - e01 =     0.000000\n",
      "e01 =  -186.597853, e0 =  -186.597853, e_add =     0.000329, e0 - e01 =     0.000000\n",
      "e01 =  -186.597853, e0 =  -186.597524, e_add =     0.000658, e0 - e01 =     0.000329\n",
      "e01 =  -186.597853, e0 =  -186.596866, e_add =     0.000987, e0 - e01 =     0.000987\n",
      "cycle= 1 E= -149.933030662644  delta_E= -0.000412  |g|= 0.00172  |ddm|= 0.0276\n",
      "e01 =  -186.597873, e0 =  -186.597873, e_add =     0.000000, e0 - e01 =     0.000000\n",
      "e01 =  -186.597873, e0 =  -186.597873, e_add =     0.000335, e0 - e01 =     0.000000\n",
      "e01 =  -186.597873, e0 =  -186.597538, e_add =     0.000671, e0 - e01 =     0.000335\n",
      "e01 =  -186.597873, e0 =  -186.596867, e_add =     0.001006, e0 - e01 =     0.001006\n",
      "cycle= 2 E= -149.933012410497  delta_E= 1.83e-05  |g|= 0.000286  |ddm|= 0.00265\n",
      "e01 =  -186.597870, e0 =  -186.597870, e_add =     0.000000, e0 - e01 =     0.000000\n",
      "e01 =  -186.597870, e0 =  -186.597870, e_add =     0.000334, e0 - e01 =     0.000000\n",
      "e01 =  -186.597870, e0 =  -186.597535, e_add =     0.000669, e0 - e01 =     0.000334\n",
      "e01 =  -186.597870, e0 =  -186.596867, e_add =     0.001003, e0 - e01 =     0.001003\n",
      "cycle= 3 E= -149.933015854969  delta_E= -3.44e-06  |g|= 5.48e-05  |ddm|= 0.000461\n",
      "e01 =  -186.597870, e0 =  -186.597870, e_add =     0.000000, e0 - e01 =     0.000000\n",
      "e01 =  -186.597870, e0 =  -186.597870, e_add =     0.000334, e0 - e01 =     0.000000\n",
      "e01 =  -186.597870, e0 =  -186.597536, e_add =     0.000669, e0 - e01 =     0.000334\n",
      "e01 =  -186.597870, e0 =  -186.596867, e_add =     0.001003, e0 - e01 =     0.001003\n",
      "cycle= 4 E= -149.933015434748  delta_E= 4.2e-07  |g|= 1.62e-05  |ddm|= 8.69e-05\n",
      "e01 =  -186.597870, e0 =  -186.597870, e_add =     0.000000, e0 - e01 =     0.000000\n",
      "e01 =  -186.597870, e0 =  -186.597870, e_add =     0.000334, e0 - e01 =     0.000000\n",
      "e01 =  -186.597870, e0 =  -186.597536, e_add =     0.000669, e0 - e01 =     0.000334\n",
      "e01 =  -186.597870, e0 =  -186.596867, e_add =     0.001003, e0 - e01 =     0.001003\n",
      "cycle= 5 E= -149.933015540069  delta_E= -1.05e-07  |g|= 2.27e-06  |ddm|= 4.4e-05\n",
      "e01 =  -186.597870, e0 =  -186.597870, e_add =     0.000000, e0 - e01 =     0.000000\n",
      "e01 =  -186.597870, e0 =  -186.597870, e_add =     0.000334, e0 - e01 =     0.000000\n",
      "e01 =  -186.597870, e0 =  -186.597536, e_add =     0.000669, e0 - e01 =     0.000334\n",
      "e01 =  -186.597870, e0 =  -186.596867, e_add =     0.001003, e0 - e01 =     0.001003\n",
      "cycle= 6 E= -149.933015532507  delta_E= 7.56e-09  |g|= 4.56e-07  |ddm|= 6.52e-06\n",
      "e01 =  -186.597870, e0 =  -186.597870, e_add =     0.000000, e0 - e01 =     0.000000\n",
      "e01 =  -186.597870, e0 =  -186.597870, e_add =     0.000334, e0 - e01 =     0.000000\n",
      "e01 =  -186.597870, e0 =  -186.597536, e_add =     0.000669, e0 - e01 =     0.000334\n",
      "e01 =  -186.597870, e0 =  -186.596867, e_add =     0.001003, e0 - e01 =     0.001003\n",
      "converged SCF energy = -149.933015531495\n",
      "e01 =  -186.597870, e0 =  -186.597870, e_add =     0.000000, e0 - e01 =     0.000000\n",
      "e01 =  -186.597870, e0 =  -186.597870, e_add =     0.000334, e0 - e01 =     0.000000\n",
      "e01 =  -186.597870, e0 =  -186.597536, e_add =     0.000669, e0 - e01 =     0.000334\n",
      "omega =     3.000000, e01 =  -186.596867, e_add1 =     0.001003, pop1 =    -0.018287\n"
     ]
    },
    {
     "name": "stderr",
     "output_type": "stream",
     "text": [
      "Overwritten attributes  get_fock energy_elec  of <class 'pyscf.scf.hf.RHF'>\n"
     ]
    }
   ],
   "source": [
    "kk = 4\n",
    "pop1_list    = np.zeros(kk)\n",
    "pop2_list    = np.zeros(kk)\n",
    "pop3_list    = np.zeros(kk)\n",
    "\n",
    "e_add1_list  = np.zeros(kk)\n",
    "e_add2_list  = np.zeros(kk)\n",
    "e_add3_list  = np.zeros(kk)\n",
    "\n",
    "e0_1_list    = np.zeros(kk)\n",
    "e0_2_list    = np.zeros(kk)\n",
    "e0_3_list    = np.zeros(kk)\n",
    "omega_list   = np.linspace(0,3.0,kk)\n",
    "\n",
    "mf           = scf.RHF(mol)\n",
    "mf.conv_tol  = 1e-8\n",
    "mf.verbose   = 0\n",
    "mf.max_cycle = 100\n",
    "mf.kernel()\n",
    "dm = mf.make_rdm1()\n",
    "\n",
    "old_get_fock       = mf.get_fock\n",
    "old_energy_elec    = mf.energy_elec\n",
    "\n",
    "frg_list            = [[0,1,2],[3,4,5]]\n",
    "nelec_required_list = [[10.0], [10.0]]\n",
    "    \n",
    "for iomega, omega in enumerate(omega_list):\n",
    "    omega_vals          = [[omega],[0.0]]\n",
    "    e01, e_add1, dm     = rdft(mf, frg_list, nelec_required_list, omega_vals, dm0=dm, verbose=3, maxiter=200, tol=1e-8,\n",
    "                              old_energy_elec=old_energy_elec, old_get_fock=old_get_fock)\n",
    "    pop                 = mf.mulliken_pop(verbose=0)[1]\n",
    "    pop1                = pop[0]+pop[1]+pop[2]\n",
    "    pop1_list[iomega]   = pop1\n",
    "    e_add1_list[iomega] = e_add1\n",
    "    e0_1_list[iomega]   = e01\n",
    "    \n",
    "    print(\"omega = {: 12.6f}, e01 = {: 12.6f}, e_add1 = {: 12.6f}, pop1 = {: 12.6f}\".format(\n",
    "        omega, e01, e_add1, pop1\n",
    "    ))"
   ]
  },
  {
   "cell_type": "code",
   "execution_count": 3,
   "metadata": {},
   "outputs": [
    {
     "data": {
      "image/png": "[encoded data removed]",
      "text/plain": [
       "<Figure size 720x576 with 3 Axes>"
      ]
     },
     "metadata": {
      "needs_background": "light"
     },
     "output_type": "display_data"
    }
   ],
   "source": [
    "import matplotlib as mpl\n",
    "from   matplotlib import pyplot as plt\n",
    "\n",
    "style_dict = {\n",
    "    '1': dict(linestyle='-.',  marker='s', color='C1',  markersize=6, markevery=1, label=r\"$(\\omega, 0.0)$\"),\n",
    "    '2': dict(linestyle='-.',  marker='*', color='C2',  markersize=10, markevery=1, label=r\"$(2\\omega, 0.0)$\"),\n",
    "    '3': dict(linestyle='-.',  marker='o', color='C3',  markersize=6, markevery=1, label=r\"$(\\omega, \\omega)$\")\n",
    "}\n",
    "\n",
    "params = {\n",
    "        \"axes.titlesize\":  10, \n",
    "        \"axes.labelsize\":  20, \n",
    "        \"legend.fontsize\": 15,\n",
    "        \"xtick.labelsize\": 10,\n",
    "        \"ytick.labelsize\": 10, \n",
    "        \"xtick.direction\":'in', \n",
    "        \"ytick.direction\":'in' \n",
    "}\n",
    "mpl.rcParams.update(**params)\n",
    "\n",
    "k = kk\n",
    "fig1, ax1 = plt.subplots(3,1,figsize=(10,8),sharex=True)\n",
    "fig1.subplots_adjust(left=0.09, bottom=0.1, right=0.99, top=0.99, wspace=0.1)\n",
    "ax1[0].plot(omega_list[:k], pop1_list[:k], **style_dict['1'])\n",
    "# ax1[0].plot(omega_list[:k], pop2_list[:k], **style_dict['2'])\n",
    "# ax1[0].plot(omega_list[:k], pop3_list[:k], **style_dict['3'])\n",
    "\n",
    "ax1[1].plot(omega_list[:k], e_add1_list[:k], **style_dict['1'])\n",
    "# ax1[1].plot(omega_list[:k], e_add2_list[:k], **style_dict['2'])\n",
    "# ax1[1].plot(omega_list[:k], e_add3_list[:k], **style_dict['3'])\n",
    "\n",
    "ax1[2].plot(omega_list[:k], e0_1_list[:k]-e0_1_list[0], **style_dict['1'])\n",
    "# ax1[2].plot(omega_list[:k], e0_2_list[:k]-e0_2_list[0], **style_dict['2'])\n",
    "# ax1[2].plot(omega_list[:k], e0_3_list[:k]-e0_3_list[0], **style_dict['3'])\n",
    "\n",
    "# ax1[2].plot(omega_list[:k], e0_1_list[:k]-e0_1_list[0]+e_add1_list[:k], **style_dict['1'])\n",
    "# ax1[2].plot(omega_list[:k], e0_2_list[:k]-e0_2_list[0]+e_add2_list[:k], **style_dict['2'])\n",
    "# ax1[2].plot(omega_list[:k], e0_3_list[:k]-e0_3_list[0]+e_add3_list[:k], **style_dict['3'])\n",
    "\n",
    "props = {'ylabel':r'$Q_1\\,$(au)'}\n",
    "ax1[0].grid(linestyle=\"--\", alpha=0.2)\n",
    "ax1[0].set(**props)\n",
    "\n",
    "props = {'ylabel':r'$E_\\mathrm{add}\\,$ (au)'}\n",
    "ax1[1].grid(linestyle=\"--\", alpha=0.2)\n",
    "ax1[1].set(**props)\n",
    "\n",
    "props = {'ylabel':r'$E_\\mathrm{elec}-E_\\mathrm{elec,0}\\,$ (au)', 'xlabel':r'$\\omega\\,$(au)'}\n",
    "ax1[2].legend(loc='lower right')\n",
    "ax1[2].grid(linestyle=\"--\", alpha=0.2)\n",
    "ax1[2].set(**props);"
   ]
  },
  {
   "cell_type": "code",
   "execution_count": 4,
   "metadata": {},
   "outputs": [],
   "source": [
    "# -0.025080\n",
    "# omega =    14.769231, e01 =  -186.597176, e_add1 =     0.002817, pop1 =    -0.013810, e01 =  -186.596254, e_add2 =     0.003029, pop2 =    -0.010126"
   ]
  },
  {
   "cell_type": "code",
   "execution_count": 5,
   "metadata": {},
   "outputs": [
    {
     "data": {
      "text/plain": [
       "0.9300099042588313"
      ]
     },
     "execution_count": 5,
     "metadata": {},
     "output_type": "execute_result"
    }
   ],
   "source": [
    "0.002817/0.003029"
   ]
  },
  {
   "cell_type": "code",
   "execution_count": 6,
   "metadata": {},
   "outputs": [
    {
     "data": {
      "text/plain": [
       "21.9941437444543"
      ]
     },
     "execution_count": 6,
     "metadata": {},
     "output_type": "execute_result"
    }
   ],
   "source": [
    "(-0.010126+0.2580)/(-0.013810+0.025080)"
   ]
  },
  {
   "cell_type": "code",
   "execution_count": 7,
   "metadata": {},
   "outputs": [
    {
     "data": {
      "text/plain": [
       "0.7332367849384503"
      ]
     },
     "execution_count": 7,
     "metadata": {},
     "output_type": "execute_result"
    }
   ],
   "source": [
    "(-0.010126)/(-0.013810)"
   ]
  },
  {
   "cell_type": "code",
   "execution_count": 8,
   "metadata": {},
   "outputs": [
    {
     "data": {
      "text/plain": [
       "1.3638159194153663"
      ]
     },
     "execution_count": 8,
     "metadata": {},
     "output_type": "execute_result"
    }
   ],
   "source": [
    "(-0.013810)/(-0.010126)"
   ]
  },
  {
   "cell_type": "code",
   "execution_count": 9,
   "metadata": {},
   "outputs": [
    {
     "data": {
      "text/plain": [
       "0.001756"
      ]
     },
     "execution_count": 9,
     "metadata": {},
     "output_type": "execute_result"
    }
   ],
   "source": [
    "0.000439*4"
   ]
  },
  {
   "cell_type": "code",
   "execution_count": null,
   "metadata": {},
   "outputs": [],
   "source": []
  }
 ],
 "metadata": {
  "kernelspec": {
   "display_name": "Python 3",
   "language": "python",
   "name": "python3"
  },
  "language_info": {
   "codemirror_mode": {
    "name": "ipython",
    "version": 3
   },
   "file_extension": ".py",
   "mimetype": "text/x-python",
   "name": "python",
   "nbconvert_exporter": "python",
   "pygments_lexer": "ipython3",
   "version": "3.7.7"
  }
 },
 "nbformat": 4,
 "nbformat_minor": 4
}
